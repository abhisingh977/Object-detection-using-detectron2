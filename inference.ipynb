{
 "cells": [
  {
   "cell_type": "code",
   "execution_count": 2,
   "metadata": {
    "colab": {
     "base_uri": "https://localhost:8080/",
     "height": 363
    },
    "colab_type": "code",
    "executionInfo": {
     "elapsed": 3117,
     "status": "ok",
     "timestamp": 1593458533423,
     "user": {
      "displayName": "Abhishek Singh",
      "photoUrl": "",
      "userId": "11856785534197598278"
     },
     "user_tz": 420
    },
    "id": "RIz87w8QY3pB",
    "outputId": "28c6bb9a-81d4-4571-e2e0-6cd9f85bdee6"
   },
   "outputs": [
    {
     "name": "stdout",
     "output_type": "stream",
     "text": [
      "/bin/sh: nvidia-smi: command not found\r\n"
     ]
    }
   ],
   "source": [
    "!nvidia-smi"
   ]
  },
  {
   "cell_type": "code",
   "execution_count": 3,
   "metadata": {
    "colab": {
     "base_uri": "https://localhost:8080/",
     "height": 124
    },
    "colab_type": "code",
    "executionInfo": {
     "elapsed": 27990,
     "status": "ok",
     "timestamp": 1593458558313,
     "user": {
      "displayName": "Abhishek Singh",
      "photoUrl": "",
      "userId": "11856785534197598278"
     },
     "user_tz": 420
    },
    "id": "-qTcKfdBay7y",
    "outputId": "454ba2cf-8df1-48e5-b8e7-648dcdfef781"
   },
   "outputs": [
    {
     "ename": "ModuleNotFoundError",
     "evalue": "No module named 'google'",
     "output_type": "error",
     "traceback": [
      "\u001b[0;31m---------------------------------------------------------------------------\u001b[0m",
      "\u001b[0;31mModuleNotFoundError\u001b[0m                       Traceback (most recent call last)",
      "\u001b[0;32m<ipython-input-3-d5df0069828e>\u001b[0m in \u001b[0;36m<module>\u001b[0;34m\u001b[0m\n\u001b[0;32m----> 1\u001b[0;31m \u001b[0;32mfrom\u001b[0m \u001b[0mgoogle\u001b[0m\u001b[0;34m.\u001b[0m\u001b[0mcolab\u001b[0m \u001b[0;32mimport\u001b[0m \u001b[0mdrive\u001b[0m\u001b[0;34m\u001b[0m\u001b[0;34m\u001b[0m\u001b[0m\n\u001b[0m\u001b[1;32m      2\u001b[0m \u001b[0mdrive\u001b[0m\u001b[0;34m.\u001b[0m\u001b[0mmount\u001b[0m\u001b[0;34m(\u001b[0m\u001b[0;34m'/content/drive'\u001b[0m\u001b[0;34m)\u001b[0m\u001b[0;34m\u001b[0m\u001b[0;34m\u001b[0m\u001b[0m\n",
      "\u001b[0;31mModuleNotFoundError\u001b[0m: No module named 'google'"
     ]
    }
   ],
   "source": [
    "from google.colab import drive\n",
    "drive.mount('/content/drive')"
   ]
  },
  {
   "cell_type": "code",
   "execution_count": 3,
   "metadata": {
    "colab": {
     "base_uri": "https://localhost:8080/",
     "height": 1000
    },
    "colab_type": "code",
    "executionInfo": {
     "elapsed": 190080,
     "status": "ok",
     "timestamp": 1593458720418,
     "user": {
      "displayName": "Abhishek Singh",
      "photoUrl": "",
      "userId": "11856785534197598278"
     },
     "user_tz": 420
    },
    "id": "9_nxpSQDYUvU",
    "outputId": "235c5284-f3bd-4a30-9266-fe673a748610"
   },
   "outputs": [
    {
     "name": "stdout",
     "output_type": "stream",
     "text": [
      "Looking in links: https://download.pytorch.org/whl/torch_stable.html\n",
      "Collecting torch==1.4+cu100\n",
      "\u001b[?25l  Downloading https://download.pytorch.org/whl/cu100/torch-1.4.0%2Bcu100-cp36-cp36m-linux_x86_64.whl (723.9MB)\n",
      "\u001b[K     |████████████████████████████████| 723.9MB 24kB/s \n",
      "\u001b[?25hCollecting torchvision==0.5+cu100\n",
      "\u001b[?25l  Downloading https://download.pytorch.org/whl/cu100/torchvision-0.5.0%2Bcu100-cp36-cp36m-linux_x86_64.whl (4.0MB)\n",
      "\u001b[K     |████████████████████████████████| 4.1MB 45.7MB/s \n",
      "\u001b[?25hRequirement already satisfied, skipping upgrade: pillow>=4.1.1 in /usr/local/lib/python3.6/dist-packages (from torchvision==0.5+cu100) (7.0.0)\n",
      "Requirement already satisfied, skipping upgrade: six in /usr/local/lib/python3.6/dist-packages (from torchvision==0.5+cu100) (1.12.0)\n",
      "Requirement already satisfied, skipping upgrade: numpy in /usr/local/lib/python3.6/dist-packages (from torchvision==0.5+cu100) (1.18.5)\n",
      "Installing collected packages: torch, torchvision\n",
      "  Found existing installation: torch 1.5.1+cu101\n",
      "    Uninstalling torch-1.5.1+cu101:\n",
      "      Successfully uninstalled torch-1.5.1+cu101\n",
      "  Found existing installation: torchvision 0.6.1+cu101\n",
      "    Uninstalling torchvision-0.6.1+cu101:\n",
      "      Successfully uninstalled torchvision-0.6.1+cu101\n",
      "Successfully installed torch-1.4.0+cu100 torchvision-0.5.0+cu100\n",
      "Requirement already satisfied: cython in /usr/local/lib/python3.6/dist-packages (0.29.20)\n",
      "Collecting pyyaml==5.1\n",
      "\u001b[?25l  Downloading https://files.pythonhosted.org/packages/9f/2c/9417b5c774792634834e730932745bc09a7d36754ca00acf1ccd1ac2594d/PyYAML-5.1.tar.gz (274kB)\n",
      "\u001b[K     |████████████████████████████████| 276kB 7.0MB/s \n",
      "\u001b[?25hBuilding wheels for collected packages: pyyaml\n",
      "  Building wheel for pyyaml (setup.py) ... \u001b[?25l\u001b[?25hdone\n",
      "  Created wheel for pyyaml: filename=PyYAML-5.1-cp36-cp36m-linux_x86_64.whl size=44074 sha256=e2716d4ded72aecd61fd7d8ec7fb08b7ab0639ebd3e61a8ee51afe47e68fbc7a\n",
      "  Stored in directory: /root/.cache/pip/wheels/ad/56/bc/1522f864feb2a358ea6f1a92b4798d69ac783a28e80567a18b\n",
      "Successfully built pyyaml\n",
      "Installing collected packages: pyyaml\n",
      "  Found existing installation: PyYAML 3.13\n",
      "    Uninstalling PyYAML-3.13:\n",
      "      Successfully uninstalled PyYAML-3.13\n",
      "Successfully installed pyyaml-5.1\n",
      "Collecting git+https://github.com/cocodataset/cocoapi.git#subdirectory=PythonAPI\n",
      "  Cloning https://github.com/cocodataset/cocoapi.git to /tmp/pip-req-build-3e9ck420\n",
      "  Running command git clone -q https://github.com/cocodataset/cocoapi.git /tmp/pip-req-build-3e9ck420\n",
      "Requirement already satisfied, skipping upgrade: setuptools>=18.0 in /usr/local/lib/python3.6/dist-packages (from pycocotools==2.0) (47.3.1)\n",
      "Requirement already satisfied, skipping upgrade: cython>=0.27.3 in /usr/local/lib/python3.6/dist-packages (from pycocotools==2.0) (0.29.20)\n",
      "Requirement already satisfied, skipping upgrade: matplotlib>=2.1.0 in /usr/local/lib/python3.6/dist-packages (from pycocotools==2.0) (3.2.2)\n",
      "Requirement already satisfied, skipping upgrade: cycler>=0.10 in /usr/local/lib/python3.6/dist-packages (from matplotlib>=2.1.0->pycocotools==2.0) (0.10.0)\n",
      "Requirement already satisfied, skipping upgrade: numpy>=1.11 in /usr/local/lib/python3.6/dist-packages (from matplotlib>=2.1.0->pycocotools==2.0) (1.18.5)\n",
      "Requirement already satisfied, skipping upgrade: python-dateutil>=2.1 in /usr/local/lib/python3.6/dist-packages (from matplotlib>=2.1.0->pycocotools==2.0) (2.8.1)\n",
      "Requirement already satisfied, skipping upgrade: kiwisolver>=1.0.1 in /usr/local/lib/python3.6/dist-packages (from matplotlib>=2.1.0->pycocotools==2.0) (1.2.0)\n",
      "Requirement already satisfied, skipping upgrade: pyparsing!=2.0.4,!=2.1.2,!=2.1.6,>=2.0.1 in /usr/local/lib/python3.6/dist-packages (from matplotlib>=2.1.0->pycocotools==2.0) (2.4.7)\n",
      "Requirement already satisfied, skipping upgrade: six in /usr/local/lib/python3.6/dist-packages (from cycler>=0.10->matplotlib>=2.1.0->pycocotools==2.0) (1.12.0)\n",
      "Building wheels for collected packages: pycocotools\n",
      "  Building wheel for pycocotools (setup.py) ... \u001b[?25l\u001b[?25hdone\n",
      "  Created wheel for pycocotools: filename=pycocotools-2.0-cp36-cp36m-linux_x86_64.whl size=266983 sha256=de417927dd2d8d2cf4fd7633eb89c9b9327ea50d12368cfd24ec55d482b90307\n",
      "  Stored in directory: /tmp/pip-ephem-wheel-cache-wf7lrrlp/wheels/90/51/41/646daf401c3bc408ff10de34ec76587a9b3ebfac8d21ca5c3a\n",
      "Successfully built pycocotools\n",
      "Installing collected packages: pycocotools\n",
      "  Found existing installation: pycocotools 2.0.1\n",
      "    Uninstalling pycocotools-2.0.1:\n",
      "      Successfully uninstalled pycocotools-2.0.1\n",
      "Successfully installed pycocotools-2.0\n",
      "gcc (Ubuntu 7.5.0-3ubuntu1~18.04) 7.5.0\n",
      "Copyright (C) 2017 Free Software Foundation, Inc.\n",
      "This is free software; see the source for copying conditions.  There is NO\n",
      "warranty; not even for MERCHANTABILITY or FITNESS FOR A PARTICULAR PURPOSE.\n",
      "\n"
     ]
    }
   ],
   "source": [
    "# Install Detectron2 dependencies: https://detectron2.readthedocs.io/tutorials/install.html (use cu100 because colab is on CUDA 10.0)\n",
    "!pip install -U torch==1.4+cu100 torchvision==0.5+cu100 -f https://download.pytorch.org/whl/torch_stable.html \n",
    "!pip install cython pyyaml==5.1\n",
    "!pip install -U 'git+https://github.com/cocodataset/cocoapi.git#subdirectory=PythonAPI'\n",
    "\n",
    "# !pip install awscli # you'll need this if you want to download images from Open Images (we'll see this later)\n",
    "\n",
    "# Make sure we can import PyTorch (what Detectron2 is built with)\n",
    "import torch, torchvision\n",
    "torch.__version__\n",
    "!gcc --version"
   ]
  },
  {
   "cell_type": "code",
   "execution_count": 4,
   "metadata": {
    "colab": {
     "base_uri": "https://localhost:8080/",
     "height": 1000
    },
    "colab_type": "code",
    "executionInfo": {
     "elapsed": 204159,
     "status": "ok",
     "timestamp": 1593458734511,
     "user": {
      "displayName": "Abhishek Singh",
      "photoUrl": "",
      "userId": "11856785534197598278"
     },
     "user_tz": 420
    },
    "id": "Sf_PaCXJYBFD",
    "outputId": "b6ff6254-1460-4625-f4d5-32191fcffcdc"
   },
   "outputs": [
    {
     "name": "stdout",
     "output_type": "stream",
     "text": [
      "Looking in links: https://dl.fbaipublicfiles.com/detectron2/wheels/cu100/index.html\n",
      "Collecting detectron2\n",
      "\u001b[?25l  Downloading https://dl.fbaipublicfiles.com/detectron2/wheels/cu100/torch1.4/detectron2-0.1.3%2Bcu100-cp36-cp36m-linux_x86_64.whl (5.9MB)\n",
      "\u001b[K     |████████████████████████████████| 5.9MB 645kB/s \n",
      "\u001b[?25hRequirement already satisfied: matplotlib in /usr/local/lib/python3.6/dist-packages (from detectron2) (3.2.2)\n",
      "Requirement already satisfied: tqdm>4.29.0 in /usr/local/lib/python3.6/dist-packages (from detectron2) (4.41.1)\n",
      "Requirement already satisfied: termcolor>=1.1 in /usr/local/lib/python3.6/dist-packages (from detectron2) (1.1.0)\n",
      "Requirement already satisfied: Pillow in /usr/local/lib/python3.6/dist-packages (from detectron2) (7.0.0)\n",
      "Requirement already satisfied: tabulate in /usr/local/lib/python3.6/dist-packages (from detectron2) (0.8.7)\n",
      "Collecting mock\n",
      "  Downloading https://files.pythonhosted.org/packages/cd/74/d72daf8dff5b6566db857cfd088907bb0355f5dd2914c4b3ef065c790735/mock-4.0.2-py3-none-any.whl\n",
      "Collecting fvcore>=0.1.1\n",
      "  Downloading https://files.pythonhosted.org/packages/28/6d/29d47d57fe319711641d2961f422362ecbf17bd6859ae54f62102b15c052/fvcore-0.1.1.post20200623.tar.gz\n",
      "Requirement already satisfied: future in /usr/local/lib/python3.6/dist-packages (from detectron2) (0.16.0)\n",
      "Requirement already satisfied: pydot in /usr/local/lib/python3.6/dist-packages (from detectron2) (1.3.0)\n",
      "Collecting yacs>=0.1.6\n",
      "  Downloading https://files.pythonhosted.org/packages/81/3b/40e876afde9f5ffa1cfdce10565aba85b0dc2e067ed551dfb566cfee6d4d/yacs-0.1.7-py3-none-any.whl\n",
      "Requirement already satisfied: cloudpickle in /usr/local/lib/python3.6/dist-packages (from detectron2) (1.3.0)\n",
      "Requirement already satisfied: tensorboard in /usr/local/lib/python3.6/dist-packages (from detectron2) (2.2.2)\n",
      "Requirement already satisfied: kiwisolver>=1.0.1 in /usr/local/lib/python3.6/dist-packages (from matplotlib->detectron2) (1.2.0)\n",
      "Requirement already satisfied: python-dateutil>=2.1 in /usr/local/lib/python3.6/dist-packages (from matplotlib->detectron2) (2.8.1)\n",
      "Requirement already satisfied: cycler>=0.10 in /usr/local/lib/python3.6/dist-packages (from matplotlib->detectron2) (0.10.0)\n",
      "Requirement already satisfied: pyparsing!=2.0.4,!=2.1.2,!=2.1.6,>=2.0.1 in /usr/local/lib/python3.6/dist-packages (from matplotlib->detectron2) (2.4.7)\n",
      "Requirement already satisfied: numpy>=1.11 in /usr/local/lib/python3.6/dist-packages (from matplotlib->detectron2) (1.18.5)\n",
      "Requirement already satisfied: pyyaml>=5.1 in /usr/local/lib/python3.6/dist-packages (from fvcore>=0.1.1->detectron2) (5.1)\n",
      "Collecting portalocker\n",
      "  Downloading https://files.pythonhosted.org/packages/53/84/7b3146ec6378d28abc73ab484f09f47dfa008ad6f03f33d90a369f880e25/portalocker-1.7.0-py2.py3-none-any.whl\n",
      "Requirement already satisfied: grpcio>=1.24.3 in /usr/local/lib/python3.6/dist-packages (from tensorboard->detectron2) (1.30.0)\n",
      "Requirement already satisfied: google-auth<2,>=1.6.3 in /usr/local/lib/python3.6/dist-packages (from tensorboard->detectron2) (1.17.2)\n",
      "Requirement already satisfied: google-auth-oauthlib<0.5,>=0.4.1 in /usr/local/lib/python3.6/dist-packages (from tensorboard->detectron2) (0.4.1)\n",
      "Requirement already satisfied: absl-py>=0.4 in /usr/local/lib/python3.6/dist-packages (from tensorboard->detectron2) (0.9.0)\n",
      "Requirement already satisfied: requests<3,>=2.21.0 in /usr/local/lib/python3.6/dist-packages (from tensorboard->detectron2) (2.23.0)\n",
      "Requirement already satisfied: wheel>=0.26; python_version >= \"3\" in /usr/local/lib/python3.6/dist-packages (from tensorboard->detectron2) (0.34.2)\n",
      "Requirement already satisfied: six>=1.10.0 in /usr/local/lib/python3.6/dist-packages (from tensorboard->detectron2) (1.12.0)\n",
      "Requirement already satisfied: setuptools>=41.0.0 in /usr/local/lib/python3.6/dist-packages (from tensorboard->detectron2) (47.3.1)\n",
      "Requirement already satisfied: werkzeug>=0.11.15 in /usr/local/lib/python3.6/dist-packages (from tensorboard->detectron2) (1.0.1)\n",
      "Requirement already satisfied: markdown>=2.6.8 in /usr/local/lib/python3.6/dist-packages (from tensorboard->detectron2) (3.2.2)\n",
      "Requirement already satisfied: protobuf>=3.6.0 in /usr/local/lib/python3.6/dist-packages (from tensorboard->detectron2) (3.10.0)\n",
      "Requirement already satisfied: tensorboard-plugin-wit>=1.6.0 in /usr/local/lib/python3.6/dist-packages (from tensorboard->detectron2) (1.6.0.post3)\n",
      "Requirement already satisfied: rsa<5,>=3.1.4; python_version >= \"3\" in /usr/local/lib/python3.6/dist-packages (from google-auth<2,>=1.6.3->tensorboard->detectron2) (4.6)\n",
      "Requirement already satisfied: cachetools<5.0,>=2.0.0 in /usr/local/lib/python3.6/dist-packages (from google-auth<2,>=1.6.3->tensorboard->detectron2) (4.1.0)\n",
      "Requirement already satisfied: pyasn1-modules>=0.2.1 in /usr/local/lib/python3.6/dist-packages (from google-auth<2,>=1.6.3->tensorboard->detectron2) (0.2.8)\n",
      "Requirement already satisfied: requests-oauthlib>=0.7.0 in /usr/local/lib/python3.6/dist-packages (from google-auth-oauthlib<0.5,>=0.4.1->tensorboard->detectron2) (1.3.0)\n",
      "Requirement already satisfied: chardet<4,>=3.0.2 in /usr/local/lib/python3.6/dist-packages (from requests<3,>=2.21.0->tensorboard->detectron2) (3.0.4)\n",
      "Requirement already satisfied: idna<3,>=2.5 in /usr/local/lib/python3.6/dist-packages (from requests<3,>=2.21.0->tensorboard->detectron2) (2.9)\n",
      "Requirement already satisfied: certifi>=2017.4.17 in /usr/local/lib/python3.6/dist-packages (from requests<3,>=2.21.0->tensorboard->detectron2) (2020.6.20)\n",
      "Requirement already satisfied: urllib3!=1.25.0,!=1.25.1,<1.26,>=1.21.1 in /usr/local/lib/python3.6/dist-packages (from requests<3,>=2.21.0->tensorboard->detectron2) (1.24.3)\n",
      "Requirement already satisfied: importlib-metadata; python_version < \"3.8\" in /usr/local/lib/python3.6/dist-packages (from markdown>=2.6.8->tensorboard->detectron2) (1.6.1)\n",
      "Requirement already satisfied: pyasn1>=0.1.3 in /usr/local/lib/python3.6/dist-packages (from rsa<5,>=3.1.4; python_version >= \"3\"->google-auth<2,>=1.6.3->tensorboard->detectron2) (0.4.8)\n",
      "Requirement already satisfied: oauthlib>=3.0.0 in /usr/local/lib/python3.6/dist-packages (from requests-oauthlib>=0.7.0->google-auth-oauthlib<0.5,>=0.4.1->tensorboard->detectron2) (3.1.0)\n",
      "Requirement already satisfied: zipp>=0.5 in /usr/local/lib/python3.6/dist-packages (from importlib-metadata; python_version < \"3.8\"->markdown>=2.6.8->tensorboard->detectron2) (3.1.0)\n",
      "Building wheels for collected packages: fvcore\n",
      "  Building wheel for fvcore (setup.py) ... \u001b[?25l\u001b[?25hdone\n",
      "  Created wheel for fvcore: filename=fvcore-0.1.1.post20200623-cp36-none-any.whl size=41183 sha256=7b67cc80e03a5b6a9f2a60e528533f8cc2c7d88c34805935ffdad7f7531e7482\n",
      "  Stored in directory: /root/.cache/pip/wheels/31/b5/a9/df0fd43b263cc96c1d5076ade63fdcdd30fab8699e3366a60c\n",
      "Successfully built fvcore\n",
      "Installing collected packages: mock, yacs, portalocker, fvcore, detectron2\n",
      "Successfully installed detectron2-0.1.3+cu100 fvcore-0.1.1.post20200623 mock-4.0.2 portalocker-1.7.0 yacs-0.1.7\n"
     ]
    }
   ],
   "source": [
    "!pip install detectron2 -f https://dl.fbaipublicfiles.com/detectron2/wheels/cu100/index.html"
   ]
  },
  {
   "cell_type": "code",
   "execution_count": 8,
   "metadata": {
    "colab": {
     "base_uri": "https://localhost:8080/",
     "height": 52
    },
    "colab_type": "code",
    "executionInfo": {
     "elapsed": 23087,
     "status": "ok",
     "timestamp": 1593458877434,
     "user": {
      "displayName": "Abhishek Singh",
      "photoUrl": "",
      "userId": "11856785534197598278"
     },
     "user_tz": 420
    },
    "id": "qDdaRK1qXQKX",
    "outputId": "93374b02-c9b7-43cc-e596-db52a4f1c8c0"
   },
   "outputs": [
    {
     "name": "stdout",
     "output_type": "stream",
     "text": [
      "inference_time : 13.883843421936035\n",
      "('4.jpeg', [1, 0, 2], [[1604, 585, 1912, 780], [654, 555, 702, 642], [1173, 642, 1359, 764]], [0.9999994, 0.99849665, 0.95192826])\n"
     ]
    }
   ],
   "source": [
    "# Some basic setup:\n",
    "# Setup detectron2 logger\n",
    "import pdb\n",
    "import detectron2\n",
    "from detectron2.utils.logger import setup_logger\n",
    "setup_logger() # this logs Detectron2 information such as what the model is doing when it's training\n",
    "\n",
    "# import some common libraries\n",
    "import numpy as np\n",
    "# import pandas as pd\n",
    "# from tqdm import tqdm\n",
    "import cv2\n",
    "import random\n",
    "import time\n",
    "from google.colab.patches import cv2_imshow\n",
    "\n",
    "# import some common detectron2 utilities\n",
    "from detectron2 import model_zoo # a series of pre-trained Detectron2 models: https://github.com/facebookresearch/detectron2/blob/master/MODEL_ZOO.md\n",
    "from detectron2.engine import DefaultPredictor # a default predictor class to make predictions on an image using a trained model\n",
    "from detectron2.config import get_cfg # a config of \"cfg\" in Detectron2 is a series of instructions for building a model\n",
    "from detectron2.utils.visualizer import Visualizer # a class to help visualize Detectron2 predictions on an image\n",
    "from detectron2.data import MetadataCatalog # stores information about the model such as what the training/test data is, what the class names are\n",
    "import os\n",
    "import numpy as np\n",
    "import json\n",
    "from detectron2.structures import BoxMode\n",
    "from detectron2.data import DatasetCatalog, MetadataCatalog\n",
    "from detectron2.data.datasets import register_coco_instances\n",
    "from detectron2.engine import DefaultTrainer\n",
    "from detectron2.config import get_cfg\n",
    "\n",
    "cfg = get_cfg()\n",
    "cfg.merge_from_file(\"/content/drive/My Drive/dsip/door_model_config.yaml\")\n",
    "cfg.MODEL.WEIGHTS =\"/content/drive/My Drive/dsip/model_final.pth\"\n",
    "cfg.MODEL.SCORE_THRESH_TEST = 0.5\n",
    "cfg.MODEL.DEVICE='cpu'\n",
    "cfg.DATASETS.TEST = (\"door_train\",)\n",
    "# Setup predictor\n",
    "predictor = DefaultPredictor(cfg)\n",
    "\n",
    "# Make a prediction and display inferences\n",
    "def make_inference_firehydrant(image,predictor, model_config, model_weights, threshold=0.5, n=5):\n",
    "  \"\"\"\n",
    "  Makes inference on image (single image) using model_config, model_weights and threshold.\n",
    "\n",
    "  Returns image with n instance predictions drawn on.\n",
    "\n",
    "  Params:\n",
    "  -------\n",
    "  image (str) : file path to target image\n",
    "  model_config (str) : file path to model config in .yaml format\n",
    "  model_weights (str) : file path to model weights \n",
    "  threshold (float) : confidence threshold for model prediction, default 0.5\n",
    "  n (int) : number of prediction instances to draw on, default 5\n",
    "    Note: some images may not have 5 instances to draw on depending on threshold,\n",
    "    n=5 means the top 5 instances above the threshold will be drawn on.\n",
    "  save (bool) : if True will save image with predicted instances to file, default False\n",
    "  \"\"\"\n",
    "\n",
    "  # # Setup config\n",
    "  # cfg = get_cfg()\n",
    "  # cfg.merge_from_file(model_config)\n",
    "  # cfg.MODEL.WEIGHTS = model_weights\n",
    "  # cfg.MODEL.SCORE_THRESH_TEST = threshold\n",
    "  # cfg.MODEL.DEVICE='cpu'\n",
    "\n",
    "  # # Setup predictor\n",
    "  # predictor = DefaultPredictor(cfg)\n",
    "  img = cv2.imread(image)\n",
    "  visualizer = Visualizer(img_rgb=img[:, :, ::-1],\n",
    "                          metadata=MetadataCatalog.get(cfg.DATASETS.TRAIN[0]),\n",
    "                          scale=0.4)\n",
    "  \n",
    "  inference_strat_time = time.time()\n",
    "  outputs = predictor(img) # Outputs: https://detectron2.readthedocs.io/modules/structures.html#detectron2.structures.Instances\n",
    "  print('inference_time : '+str(time.time()-inference_strat_time))\n",
    "  #print(outputs)\n",
    "  l=len(outputs[\"instances\"])\n",
    "  bbox = []\n",
    "  allbox=[]\n",
    "  scores=[]\n",
    "  classes=[]\n",
    "  for i in range(l):\n",
    "    if outputs[\"instances\"][:l][i].scores.to('cpu').numpy()[0] > threshold:\n",
    "      s=outputs[\"instances\"][:l][i].scores.to('cpu').numpy()[0]\n",
    "  \n",
    "      scores.append(s)\n",
    "      bbox = outputs[\"instances\"][:l][i].pred_boxes.to('cpu').tensor.numpy()[0].tolist()\n",
    "      bbox = [int(v) for v in bbox]\n",
    "      allbox.append(bbox)\n",
    "      c=outputs[\"instances\"][:l][i].pred_classes.to('cpu').numpy()[0]\n",
    "      classes.append(c)\n",
    "  fn_base = image.split('.')[0]  \n",
    "  # bboxes : outputs[\"instances\"][:1].pred_boxes.to('cpu').tensor.numpy().tolist()\n",
    "  # score : outputs[\"instances\"][:1].scores.to('cpu').numpy()[0]\n",
    "\n",
    "  # Draw on predictions to image\n",
    "  # visualizer = visualizer.draw_instance_predictions(outputs[\"instances\"][:n].to(\"cpu\"))\n",
    "  # fn_base = image.split('.')[0]\n",
    "  # cv2.imwrite(f'{fn_base}_output.jpeg', visualizer.get_image()[:, :, ::-1])\n",
    "  # cv2_imshow(visualizer.get_image()[:, :, ::-1])\n",
    "  name=fn_base[:]\n",
    "  return name,allbox,classes,scores\n",
    "\n",
    "\n",
    "\n",
    "\n",
    "\n",
    "  #cv2_imshow(visualizer.get_image())"
   ]
  },
  {
   "cell_type": "code",
   "execution_count": 19,
   "metadata": {
    "colab": {
     "base_uri": "https://localhost:8080/",
     "height": 52
    },
    "colab_type": "code",
    "executionInfo": {
     "elapsed": 10036,
     "status": "ok",
     "timestamp": 1593459842925,
     "user": {
      "displayName": "Abhishek Singh",
      "photoUrl": "",
      "userId": "11856785534197598278"
     },
     "user_tz": 420
    },
    "id": "IZT6MW42llZb",
    "outputId": "b3f1fe00-ec6f-4b43-ab65-30d71433e6d3"
   },
   "outputs": [
    {
     "name": "stdout",
     "output_type": "stream",
     "text": [
      "inference_time : 8.611046075820923\n",
      "('.jpeg', [1, 0], [[147, 262, 181, 278], [162, 241, 178, 265]], [0.5453702, 0.5090195])\n"
     ]
    }
   ],
   "source": [
    "\n",
    "\n",
    "name,bbox,classes,scores=make_inference_firehydrant('/content/drive/My Drive/dsip/img1.jpeg',predictor,\n",
    "               model_config=\"/content/drive/My Drive/dsip/door_model_config.yaml\",\n",
    "               model_weights=\"/content/drive/My Drive/dsip/model_final.pth\",\n",
    "               n=10)\n",
    "c=[]\n",
    "b=[]\n",
    "s=[]\n",
    "for i in range(len(classes)):\n",
    "  if classes[i] not in c:\n",
    "    c.append(classes[i])\n",
    "    b.append(bbox[i])\n",
    "    s.append(scores[i])\n",
    "print((f'{name[36:]}.jpeg',c,b,s))"
   ]
  },
  {
   "cell_type": "code",
   "execution_count": 20,
   "metadata": {
    "colab": {},
    "colab_type": "code",
    "executionInfo": {
     "elapsed": 9548,
     "status": "ok",
     "timestamp": 1593459842928,
     "user": {
      "displayName": "Abhishek Singh",
      "photoUrl": "",
      "userId": "11856785534197598278"
     },
     "user_tz": 420
    },
    "id": "6_MxamKMBb9w"
   },
   "outputs": [],
   "source": [
    "import matplotlib.pyplot as plt\n",
    "%matplotlib inline\n",
    "import matplotlib\n",
    "matplotlib.rcParams['figure.figsize'] = (10.0, 10.0)\n",
    "matplotlib.rcParams['image.cmap'] = 'gray'"
   ]
  },
  {
   "cell_type": "code",
   "execution_count": 1,
   "metadata": {
    "colab": {
     "base_uri": "https://localhost:8080/",
     "height": 612
    },
    "colab_type": "code",
    "executionInfo": {
     "elapsed": 2371,
     "status": "ok",
     "timestamp": 1593460035290,
     "user": {
      "displayName": "Abhishek Singh",
      "photoUrl": "",
      "userId": "11856785534197598278"
     },
     "user_tz": 420
    },
    "id": "YZhm_Wwh-Jkx",
    "outputId": "ec3b1558-403c-4d76-fb8c-50aa6d1a9f7d"
   },
   "outputs": [
    {
     "ename": "NameError",
     "evalue": "name 'cv2' is not defined",
     "output_type": "error",
     "traceback": [
      "\u001b[0;31m---------------------------------------------------------------------------\u001b[0m",
      "\u001b[0;31mNameError\u001b[0m                                 Traceback (most recent call last)",
      "\u001b[0;32m<ipython-input-1-617b2c328fe3>\u001b[0m in \u001b[0;36m<module>\u001b[0;34m\u001b[0m\n\u001b[0;32m----> 1\u001b[0;31m \u001b[0mimg\u001b[0m\u001b[0;34m=\u001b[0m\u001b[0mcv2\u001b[0m\u001b[0;34m.\u001b[0m\u001b[0mimread\u001b[0m\u001b[0;34m(\u001b[0m\u001b[0;34m'/content/drive/My Drive/dsip/img.png'\u001b[0m\u001b[0;34m)\u001b[0m\u001b[0;34m\u001b[0m\u001b[0;34m\u001b[0m\u001b[0m\n\u001b[0m\u001b[1;32m      2\u001b[0m \u001b[0md\u001b[0m\u001b[0;34m=\u001b[0m\u001b[0;34m{\u001b[0m\u001b[0;36m0\u001b[0m\u001b[0;34m:\u001b[0m\u001b[0;34m'door'\u001b[0m\u001b[0;34m,\u001b[0m\u001b[0;36m1\u001b[0m\u001b[0;34m:\u001b[0m\u001b[0;34m'stairs'\u001b[0m\u001b[0;34m,\u001b[0m\u001b[0;36m2\u001b[0m\u001b[0;34m:\u001b[0m\u001b[0;34m'irongate'\u001b[0m\u001b[0;34m,\u001b[0m\u001b[0;36m3\u001b[0m\u001b[0;34m:\u001b[0m\u001b[0;34m'praking'\u001b[0m\u001b[0;34m}\u001b[0m\u001b[0;34m\u001b[0m\u001b[0;34m\u001b[0m\u001b[0m\n\u001b[1;32m      3\u001b[0m \u001b[0;32mfor\u001b[0m \u001b[0mi\u001b[0m \u001b[0;32min\u001b[0m \u001b[0mrange\u001b[0m\u001b[0;34m(\u001b[0m\u001b[0mlen\u001b[0m\u001b[0;34m(\u001b[0m\u001b[0mc\u001b[0m\u001b[0;34m)\u001b[0m\u001b[0;34m)\u001b[0m\u001b[0;34m:\u001b[0m\u001b[0;34m\u001b[0m\u001b[0;34m\u001b[0m\u001b[0m\n\u001b[1;32m      4\u001b[0m     \u001b[0;31m# print(box)\u001b[0m\u001b[0;34m\u001b[0m\u001b[0;34m\u001b[0m\u001b[0;34m\u001b[0m\u001b[0m\n\u001b[1;32m      5\u001b[0m     \u001b[0mx1\u001b[0m\u001b[0;34m,\u001b[0m\u001b[0my1\u001b[0m\u001b[0;34m,\u001b[0m\u001b[0mx2\u001b[0m\u001b[0;34m,\u001b[0m\u001b[0my2\u001b[0m \u001b[0;34m=\u001b[0m \u001b[0;34m(\u001b[0m\u001b[0mb\u001b[0m\u001b[0;34m[\u001b[0m\u001b[0mi\u001b[0m\u001b[0;34m]\u001b[0m\u001b[0;34m[\u001b[0m\u001b[0;36m0\u001b[0m\u001b[0;34m]\u001b[0m\u001b[0;34m,\u001b[0m\u001b[0mb\u001b[0m\u001b[0;34m[\u001b[0m\u001b[0mi\u001b[0m\u001b[0;34m]\u001b[0m\u001b[0;34m[\u001b[0m\u001b[0;36m1\u001b[0m\u001b[0;34m]\u001b[0m\u001b[0;34m,\u001b[0m\u001b[0mb\u001b[0m\u001b[0;34m[\u001b[0m\u001b[0mi\u001b[0m\u001b[0;34m]\u001b[0m\u001b[0;34m[\u001b[0m\u001b[0;36m2\u001b[0m\u001b[0;34m]\u001b[0m\u001b[0;34m,\u001b[0m\u001b[0mb\u001b[0m\u001b[0;34m[\u001b[0m\u001b[0mi\u001b[0m\u001b[0;34m]\u001b[0m\u001b[0;34m[\u001b[0m\u001b[0;36m3\u001b[0m\u001b[0;34m]\u001b[0m\u001b[0;34m)\u001b[0m\u001b[0;34m\u001b[0m\u001b[0;34m\u001b[0m\u001b[0m\n",
      "\u001b[0;31mNameError\u001b[0m: name 'cv2' is not defined"
     ]
    }
   ],
   "source": [
    "img=cv2.imread('/content/drive/My Drive/dsip/img.png')\n",
    "d={0:'door',1:'stairs',2:'irongate',3:'praking'}\n",
    "for i in range(len(c)):\n",
    "    # print(box)\n",
    "    x1,y1,x2,y2 = (b[i][0],b[i][1],b[i][2],b[i][3])\n",
    "    con = s[i]\n",
    "    # print(conf)\n",
    "    cls=c[i]\n",
    "    label = d[cls]\n",
    "    \n",
    "    if con < .5 :\n",
    "        continue\n",
    "    # print(x1,y1,x2,y2,conf,label)\n",
    "    cv2.rectangle(img,(x1,y1),(x2,y2),(0,255,0),2)\n",
    "    labelSize=cv2.getTextSize(label,cv2.FONT_HERSHEY_COMPLEX,.5,1)\n",
    "    # print('labelSize>>',labelSize)\n",
    "    _x1 = x1\n",
    "    _y1 = y1#+int(labelSize[0][1]/2)\n",
    "    _x2 = _x1+labelSize[0][0]\n",
    "    _y2 = y1-int(labelSize[0][1])\n",
    "    cv2.rectangle(img,(_x1,_y1),(_x2,_y2),(0,255,0),cv2.FILLED)\n",
    "    cv2.putText(img,label,(x1,y1),cv2.FONT_HERSHEY_COMPLEX,1,(0,0,0),1)\n",
    "\n",
    "\n",
    "plt.imshow(img[:,:,::-1])"
   ]
  },
  {
   "cell_type": "code",
   "execution_count": null,
   "metadata": {
    "colab": {
     "base_uri": "https://localhost:8080/",
     "height": 132
    },
    "colab_type": "code",
    "executionInfo": {
     "elapsed": 815,
     "status": "error",
     "timestamp": 1593042385972,
     "user": {
      "displayName": "Abhishek Singh",
      "photoUrl": "",
      "userId": "11856785534197598278"
     },
     "user_tz": 300
    },
    "id": "RRQ9v50QnLP8",
    "outputId": "dce64a11-6cb4-41a3-af89-74a9998d25b8"
   },
   "outputs": [
    {
     "ename": "SyntaxError",
     "evalue": "ignored",
     "output_type": "error",
     "traceback": [
      "\u001b[0;36m  File \u001b[0;32m\"<ipython-input-11-cf5ff744c829>\"\u001b[0;36m, line \u001b[0;32m4\u001b[0m\n\u001b[0;31m    x1,y1,x2,y2 = (box[],box[],box[],box[][])\u001b[0m\n\u001b[0m                       ^\u001b[0m\n\u001b[0;31mSyntaxError\u001b[0m\u001b[0;31m:\u001b[0m invalid syntax\n"
     ]
    }
   ],
   "source": [
    "def drawBoundingBox(self,imgcv,result):\n",
    "        for i in range(len):\n",
    "            # print(box)\n",
    "            x1,y1,x2,y2 = (box[],box[],box[],box[][])\n",
    "            s = box['confidence']\n",
    "            # print(conf)\n",
    "            label = s['label']\n",
    "            if conf < self.predictThresh:\n",
    "                continue\n",
    "            # print(x1,y1,x2,y2,conf,label)\n",
    "            cv2.rectangle(imgcv,(x1,y1),(x2,y2),(0,255,0),6)\n",
    "            labelSize=cv2.getTextSize(label,cv2.FONT_HERSHEY_COMPLEX,0.5,2)\n",
    "            # print('labelSize>>',labelSize)\n",
    "            _x1 = x1\n",
    "            _y1 = y1#+int(labelSize[0][1]/2)\n",
    "            _x2 = _x1+labelSize[0][0]\n",
    "            _y2 = y1-int(labelSize[0][1])\n",
    "            cv2.rectangle(imgcv,(_x1,_y1),(_x2,_y2),(0,255,0),cv2.FILLED)\n",
    "            cv2.putText(imgcv,label,(x1,y1),cv2.FONT_HERSHEY_COMPLEX,0.5,(0,0,0),1)\n",
    "        return imgcv "
   ]
  },
  {
   "cell_type": "code",
   "execution_count": null,
   "metadata": {
    "colab": {
     "base_uri": "https://localhost:8080/",
     "height": 35
    },
    "colab_type": "code",
    "executionInfo": {
     "elapsed": 1279,
     "status": "ok",
     "timestamp": 1592446464553,
     "user": {
      "displayName": "Abhishek Singh",
      "photoUrl": "",
      "userId": "11856785534197598278"
     },
     "user_tz": 300
    },
    "id": "5xzqo3bOX6at",
    "outputId": "2e1a03c4-d7e4-4936-bc1d-9f2e8fc8a6e3"
   },
   "outputs": [
    {
     "data": {
      "text/plain": [
       "'/4'"
      ]
     },
     "execution_count": 172,
     "metadata": {
      "tags": []
     },
     "output_type": "execute_result"
    }
   ],
   "source": [
    "name[35:]\n",
    "\n",
    "\n",
    "\n"
   ]
  },
  {
   "cell_type": "code",
   "execution_count": null,
   "metadata": {
    "colab": {
     "base_uri": "https://localhost:8080/",
     "height": 35
    },
    "colab_type": "code",
    "executionInfo": {
     "elapsed": 1326,
     "status": "ok",
     "timestamp": 1592442947978,
     "user": {
      "displayName": "Abhishek Singh",
      "photoUrl": "",
      "userId": "11856785534197598278"
     },
     "user_tz": 300
    },
    "id": "M7Z49ct1X6T-",
    "outputId": "fee8630c-27e8-4ec6-b138-075869c066cd"
   },
   "outputs": [
    {
     "data": {
      "text/plain": [
       "[1, 0]"
      ]
     },
     "execution_count": 154,
     "metadata": {
      "tags": []
     },
     "output_type": "execute_result"
    }
   ],
   "source": [
    "j"
   ]
  },
  {
   "cell_type": "code",
   "execution_count": null,
   "metadata": {
    "colab": {
     "base_uri": "https://localhost:8080/",
     "height": 35
    },
    "colab_type": "code",
    "executionInfo": {
     "elapsed": 1338,
     "status": "ok",
     "timestamp": 1592442953048,
     "user": {
      "displayName": "Abhishek Singh",
      "photoUrl": "",
      "userId": "11856785534197598278"
     },
     "user_tz": 300
    },
    "id": "-AJvo8mUX6Mq",
    "outputId": "57b7a828-501e-43b2-fc00-7cb29cfe349d"
   },
   "outputs": [
    {
     "data": {
      "text/plain": [
       "[[1579, 573, 1918, 811], [827, 557, 880, 639]]"
      ]
     },
     "execution_count": 155,
     "metadata": {
      "tags": []
     },
     "output_type": "execute_result"
    }
   ],
   "source": [
    "b"
   ]
  },
  {
   "cell_type": "code",
   "execution_count": null,
   "metadata": {
    "colab": {},
    "colab_type": "code",
    "id": "-acYLbYpRTlP"
   },
   "outputs": [],
   "source": []
  }
 ],
 "metadata": {
  "accelerator": "GPU",
  "colab": {
   "collapsed_sections": [],
   "name": "dsip inference.ipynb",
   "provenance": []
  },
  "kernelspec": {
   "display_name": "Python 3",
   "language": "python",
   "name": "python3"
  },
  "language_info": {
   "codemirror_mode": {
    "name": "ipython",
    "version": 3
   },
   "file_extension": ".py",
   "mimetype": "text/x-python",
   "name": "python",
   "nbconvert_exporter": "python",
   "pygments_lexer": "ipython3",
   "version": "3.7.6"
  }
 },
 "nbformat": 4,
 "nbformat_minor": 1
}
